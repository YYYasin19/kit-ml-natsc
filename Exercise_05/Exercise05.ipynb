{
 "cells": [
  {
   "cell_type": "markdown",
   "metadata": {
    "deletable": false,
    "editable": false,
    "nbgrader": {
     "cell_type": "markdown",
     "checksum": "f7ad8cc4c459ce1b611bb8172c5fe0c2",
     "grade": false,
     "grade_id": "cell-06aa629a0207eeaf",
     "locked": true,
     "schema_version": 3,
     "solution": false,
     "task": false
    }
   },
   "source": [
    "# Exercise Sheet No. 5\n",
    "\n",
    "---\n",
    "\n",
    "> Machine Learning for Natural Sciences, Summer 2021, Jun.-Prof. Pascal Friederich, pascal.friederich@kit.edu\n",
    "> \n",
    "> Deadline: 17.05.2021, 8 am\n",
    "> \n",
    "> Tutor: patrick.reiser@kit.edu  \n",
    "> **Please ask questions in the forum and only contact the Tutor when there are issues with the grading**\n",
    "\n",
    "---\n",
    "\n",
    "**Topic**: This exercise sheet will focus on Bayesian statistics, k-nearest neighbors and monte-carlo simulation."
   ]
  },
  {
   "cell_type": "markdown",
   "metadata": {
    "deletable": false,
    "editable": false,
    "nbgrader": {
     "cell_type": "markdown",
     "checksum": "d2309b76e418af1fe1892da6844d606f",
     "grade": false,
     "grade_id": "cell-b4b7e8190a5548e9",
     "locked": true,
     "schema_version": 3,
     "solution": false,
     "task": false
    }
   },
   "source": [
    "# 5 Bayes' theorem\n",
    "\n",
    "Here are Bayes rule and some important formulas of lecture 2.\n",
    "\n",
    "$$\\boxed{p(y|x) = \\frac{p(x|y) p(y)}{p(x)} }$$\n",
    "\n",
    "where $p(y|x)$ is the posterior, $p(x|y)$ the likelihood, $p(x)$ the evidence and $p(y)$ the prior. Here, $p(x\\mid y)$ is a conditional probability, which gives the probability of event $x$ occurring given that $y$ is true. Marginalization over a variable e.g. $y$ (\"eliminate variable $y$\") is defined by:\n",
    "\n",
    "$$p(x) = \\sum\\limits_k p(x|y{=}k) \\; p(y{=}k)$$\n",
    "\n",
    "Where k is each possible realization of y."
   ]
  },
  {
   "cell_type": "markdown",
   "metadata": {
    "deletable": false,
    "editable": false,
    "nbgrader": {
     "cell_type": "markdown",
     "checksum": "cb31951a04df0691451ebfec6469baf5",
     "grade": false,
     "grade_id": "cell-0cf184edcccebbe4",
     "locked": true,
     "schema_version": 3,
     "solution": false,
     "task": false
    }
   },
   "source": [
    "Let us consider the following toy problem for the Naive Bayes classifier. The feature variable $X \\in [0, 1]$ is real-valued and 1-dimensional, and the response of the system $Y \\in \\{0, 1\\}$ is discrete with two classes $0$ and $1$. For the system only the prior probabilities and likelihoods (as density functions f) are known. They are given by\n",
    "\n",
    "$$p(y = 0) = p(y = 1) = \\frac{1}{2}$$\n",
    "\n",
    "$$p(x\\,|\\,y = 0) =  2 - 2x$$\n",
    "\n",
    "$$p(x\\,|\\,y = 1) = 2x$$\n",
    "\n",
    "Now, calculate the probability density of $x$, i.e., $p(x)$ by marginalization over $y$. \n",
    "\n",
    "Hint: Marginalization with discrete variables is defined by $p(x) = \\sum_y p(x|y) p(y)$"
   ]
  },
  {
   "cell_type": "code",
   "execution_count": 1,
   "metadata": {
    "deletable": false,
    "nbgrader": {
     "cell_type": "code",
     "checksum": "89e81964db7d916bcb8207d568684129",
     "grade": false,
     "grade_id": "p_of_x",
     "locked": false,
     "schema_version": 3,
     "solution": true,
     "task": false
    }
   },
   "outputs": [],
   "source": [
    "p_of_x = lambda x: ((1/2)*(2-2*x))+((1/2)*(2*x))"
   ]
  },
  {
   "cell_type": "code",
   "execution_count": 2,
   "metadata": {
    "deletable": false,
    "editable": false,
    "nbgrader": {
     "cell_type": "code",
     "checksum": "0df2825b87747ae13f590ec7b3aa231f",
     "grade": true,
     "grade_id": "p_of_x_test",
     "locked": true,
     "points": 1,
     "schema_version": 3,
     "solution": false,
     "task": false
    }
   },
   "outputs": [],
   "source": [
    "# (1 Point)\n",
    "assert p_of_x or p_of_x == 0, 'Please assign a value to p_of_x!'\n",
    "# Additional test for p(x)"
   ]
  },
  {
   "cell_type": "markdown",
   "metadata": {
    "deletable": false,
    "editable": false,
    "nbgrader": {
     "cell_type": "markdown",
     "checksum": "09ed426a6f97a631e6c53490d23677f2",
     "grade": false,
     "grade_id": "cell-82b26320e2bff41b",
     "locked": true,
     "schema_version": 3,
     "solution": false,
     "task": false
    }
   },
   "source": [
    "Calculate the true posteriors $p^*(y|x)$ by using Bayes rule. Since $y$ is a discrete variable it is again enough to calculate the classes $\\{0,1\\}$ separatly \n",
    "\n",
    "$$p^*(y=0\\,|\\,x) = \\frac{p(x\\,|\\,y = 0)\\,p(y = 0)}{p(x)}$$\n",
    "$$p^*(y=1\\,|\\,x) = \\frac{p(x\\,|\\,y = 1)\\,p(y = 1)}{p(x)}$$\n",
    "\n",
    "The Naive Bayesian classifier would then be: \"pick the highest probability class for given $x$\". \n",
    "\n",
    "$$\\hat{f}(x) = \\underset{k}{\\text{argmax}} \\; p^*(y=k|x)$$"
   ]
  },
  {
   "cell_type": "code",
   "execution_count": 3,
   "metadata": {
    "deletable": false,
    "nbgrader": {
     "cell_type": "code",
     "checksum": "14073d52c505f09fd0f54b415d305c75",
     "grade": false,
     "grade_id": "p_y_x",
     "locked": false,
     "schema_version": 3,
     "solution": true,
     "task": false
    }
   },
   "outputs": [
    {
     "data": {
      "image/png": "[encoded data removed]",
      "text/plain": [
       "<Figure size 432x288 with 1 Axes>"
      ]
     },
     "metadata": {
      "needs_background": "light"
     },
     "output_type": "display_data"
    }
   ],
   "source": [
    "import matplotlib.pyplot as plt\n",
    "import numpy as np\n",
    "# Give your solution as a function and plot it\n",
    "def prob_y_x(y,x): # p(y|x)\n",
    "    if y == 0:\n",
    "        prob_density = ((2-2*x)*(1/2))/(p_of_x(x))\n",
    "    elif y == 1:\n",
    "        prob_density = ((2*x)*(1/2))/(p_of_x(x))\n",
    "    \n",
    "    return prob_density\n",
    "# plot the probability y|x (ordinate) against x (abscissa) for y=0 and y=1\n",
    "x_axis = np.linspace(0, 1, 100)\n",
    "\n",
    "# prob_y0_x = lambda x: prob_y_x(y=0,x=x)\n",
    "# prob_y1_x = lambda x: prob_y_x(y=1,x=x)\n",
    "\n",
    "plt.plot(x_axis, prob_y_x(y=0, x=x_axis), label=\"y=0\")\n",
    "plt.plot(x_axis, prob_y_x(y=1, x=x_axis), label=\"y=1\")\n",
    "plt.plot(x_axis, p_of_x(x_axis), label=\"p(x)\")\n",
    "plt.legend()\n",
    "plt.show()"
   ]
  },
  {
   "cell_type": "code",
   "execution_count": 4,
   "metadata": {
    "deletable": false,
    "editable": false,
    "nbgrader": {
     "cell_type": "code",
     "checksum": "e2537edb889abc790c769565382a2330",
     "grade": true,
     "grade_id": "p_y_x_test",
     "locked": true,
     "points": 2,
     "schema_version": 3,
     "solution": false,
     "task": false
    }
   },
   "outputs": [],
   "source": [
    "# (2 Points)\n",
    "assert np.abs(prob_y_x(0,0.0) - 1.0 ) < 0.001\n",
    "# Additional test for p (y|x) with y=0 or y=1"
   ]
  },
  {
   "cell_type": "markdown",
   "metadata": {
    "deletable": false,
    "editable": false,
    "nbgrader": {
     "cell_type": "markdown",
     "checksum": "a4614597a6084a72c5c290881d7857ce",
     "grade": false,
     "grade_id": "cell-ec69f2b1fdb00722",
     "locked": true,
     "schema_version": 3,
     "solution": false,
     "task": false
    }
   },
   "source": [
    "### 5.1 Bayes error rate\n",
    "\n",
    "The Bayes error rate can be described by the probability of failure of the Bayes classifer $\\mathbb{E}[ p(\\hat{y} {\\ne} y^* |x)]$, where $\\mathbb{E}$ denotes the expectation value, defined by $\\mathbb{E}[X] = \\int x \\; p(x) \\; dx$. The probability of error can also be defined by $p(\\text{error}) = 1- p(\\text{success}) = 1 - \\mathbb{E}_{x\\sim p(x)}[p(\\hat{y}_i=y_i^*|x)]$, which gives:\n",
    "\n",
    "$$\\mathbb{E}[p(\\hat{y} {\\ne} y^* |x)] = \\int (1- \\underset{k}{\\text{argmax}}\\; p^*(y{=}k|x)) \\;  p(x) \\, dx$$\n",
    "\n",
    "Determine the error rate for the toy problem, i.e. the best achievable error for Bayes classifer, using the above formular. In this case this is equal to a threshold classifier that picks either $y \\in \\{0,1\\}$ depending whether $x$ is smaller or bigger than a threshold $x_t = 1/2$. \n",
    "\n",
    "Bonus: If you want you can prove that $x_t = 1/2$ is the best choice of a threshold (not graded)."
   ]
  },
  {
   "cell_type": "code",
   "execution_count": 5,
   "metadata": {
    "deletable": false,
    "nbgrader": {
     "cell_type": "code",
     "checksum": "42782a339363188c0fc27bb9cb63495b",
     "grade": false,
     "grade_id": "error_bayes",
     "locked": false,
     "schema_version": 3,
     "solution": true,
     "task": false
    }
   },
   "outputs": [],
   "source": [
    "# error rate not in % but [0,1]\n",
    "error_x = lambda x: np.trapz((1-np.argmax([prob_y_x(x=x,y=0),prob_y_x(x=x,y=1)],axis=0))*p_of_x(x),x)\n",
    "error_bayes = 0.5 # or error_x(x_axis)"
   ]
  },
  {
   "cell_type": "code",
   "execution_count": 6,
   "metadata": {
    "deletable": false,
    "editable": false,
    "nbgrader": {
     "cell_type": "code",
     "checksum": "2753f7c47b4661b2f4174dab4a73bebb",
     "grade": true,
     "grade_id": "error_bayes_test",
     "locked": true,
     "points": 2,
     "schema_version": 3,
     "solution": false,
     "task": false
    }
   },
   "outputs": [],
   "source": [
    "# (2 Points)\n",
    "# The derivation is not graded, only the answer yields 2 Points\n",
    "assert isinstance(error_bayes, float) "
   ]
  },
  {
   "cell_type": "markdown",
   "metadata": {
    "deletable": false,
    "editable": false,
    "nbgrader": {
     "cell_type": "markdown",
     "checksum": "e087f139e8cfdda16d89869c4f4551af",
     "grade": false,
     "grade_id": "cell-8346849135e441e4",
     "locked": true,
     "schema_version": 3,
     "solution": false,
     "task": false
    }
   },
   "source": [
    "### 5.2 Nearest Neighbour error rate\n",
    "\n",
    "The nearest-neighbor classiffier's asymptotic local error ($N \\to \\infty$) is given by the Gini impurity for 1-NN and based on Bayes classification (without proof):\n",
    "\n",
    "$$ p_\\infty(\\text{error}|x) = 1-\\sum_k p(y=k|x)^2$$\n",
    "\n",
    "And for the asymptotic overall error\n",
    "\n",
    "$$ P_\\infty(\\text{error}) = \\int p_{\\infty}(\\text{error}\\,|\\,x)\\,p(x)\\,dx =\\int \\left(1-\\sum_k p(y=k|x)^2 \\right) \\,p(x)\\,dx$$\n",
    "\n",
    "Determine the error rate for the toy problem, i.e. the best achievable error for Nearest Neighbour classifer, using the above formular."
   ]
  },
  {
   "cell_type": "code",
   "execution_count": 7,
   "metadata": {
    "deletable": false,
    "nbgrader": {
     "cell_type": "code",
     "checksum": "abef9b491ad40f1880b2bb58de1723ac",
     "grade": false,
     "grade_id": "error_NN",
     "locked": false,
     "schema_version": 3,
     "solution": true,
     "task": false
    }
   },
   "outputs": [
    {
     "data": {
      "text/plain": [
       "0.3332993231983131"
      ]
     },
     "execution_count": 7,
     "metadata": {},
     "output_type": "execute_result"
    }
   ],
   "source": [
    "# TODO: write clean\n",
    "error_nn_x = lambda x: np.trapz((1 - ((((2-2*x)*(1/2))/(p_of_x(x)))**2 + (((2*x)*(1/2))/(p_of_x(x)))**2)) * p_of_x(x),x)\n",
    "error_NN = error_nn_x(x_axis)  # error rate not in % but [0,1]\n",
    "error_NN"
   ]
  },
  {
   "cell_type": "code",
   "execution_count": 8,
   "metadata": {
    "deletable": false,
    "editable": false,
    "nbgrader": {
     "cell_type": "code",
     "checksum": "6492cd83720a174d1e8b953fc1dbfb47",
     "grade": true,
     "grade_id": "error_NN_test",
     "locked": true,
     "points": 2,
     "schema_version": 3,
     "solution": false,
     "task": false
    }
   },
   "outputs": [],
   "source": [
    "# (2 Points)\n",
    "# The derivation is not graded, only the answer yields 2 Points\n",
    "assert isinstance(error_NN, float)"
   ]
  },
  {
   "cell_type": "markdown",
   "metadata": {
    "deletable": false,
    "editable": false,
    "nbgrader": {
     "cell_type": "markdown",
     "checksum": "2fd024f6b0f64b0a40d4697f1844c0c0",
     "grade": false,
     "grade_id": "cell-7d6e44ab864416be",
     "locked": true,
     "schema_version": 3,
     "solution": false,
     "task": false
    }
   },
   "source": [
    "### 5.3 Error rate for constant classifier\n",
    "\n",
    "At last, determine the error rate for our toy problem for a classifier that knows nothing about $x$, or more specifically the randomly guesses $y$ or always picks for example $y=1$ ."
   ]
  },
  {
   "cell_type": "code",
   "execution_count": 9,
   "metadata": {
    "deletable": false,
    "nbgrader": {
     "cell_type": "code",
     "checksum": "5f4deead195b053be30ac654afb0ce56",
     "grade": false,
     "grade_id": "error_guess",
     "locked": false,
     "schema_version": 3,
     "solution": true,
     "task": false
    }
   },
   "outputs": [
    {
     "data": {
      "text/plain": [
       "0.6666496615991566"
      ]
     },
     "execution_count": 9,
     "metadata": {},
     "output_type": "execute_result"
    }
   ],
   "source": [
    "# error_guess_x = lambda x: np.trapz((1-0)*p_of_x(x),x) # y = 0 BAYES ERROR\n",
    "# error_guess_x = lambda x: np.trapz((1 - ((((2-2*x)*0.5)/(p_of_x(x)))**2)) * p_of_x(x),x) # y = 0 NN ERROR\n",
    "error_guess_x = lambda x: np.trapz((1 - ((((2*x)*0.5)/(p_of_x(x)))**2)) * p_of_x(x),x) # y = 1 # NN ERROR\n",
    "# error_guess_x = lambda x: np.trapz(1 - ((2*x)*0.5)**2 * p_of_x(x), x)\n",
    "error_guess = error_guess_x(np.linspace(0,1,100)) # error rate not in % but [0,1]\n",
    "error_guess"
   ]
  },
  {
   "cell_type": "code",
   "execution_count": 10,
   "metadata": {
    "deletable": false,
    "editable": false,
    "nbgrader": {
     "cell_type": "code",
     "checksum": "0d390f0d6e69a7e238242116c93dc713",
     "grade": true,
     "grade_id": "error_guess_test",
     "locked": true,
     "points": 1,
     "schema_version": 3,
     "solution": false,
     "task": false
    }
   },
   "outputs": [],
   "source": [
    "# (1 Point)\n",
    "# The derivation is not graded, only the answer yields 1 Point\n",
    "assert isinstance(error_guess, float)"
   ]
  },
  {
   "cell_type": "markdown",
   "metadata": {
    "deletable": false,
    "editable": false,
    "nbgrader": {
     "cell_type": "markdown",
     "checksum": "b321f9d362d1c5b883ae7c3c027d5bdf",
     "grade": false,
     "grade_id": "cell-a5b96c7089da209b",
     "locked": true,
     "schema_version": 3,
     "solution": false,
     "task": false
    }
   },
   "source": [
    "# 5.4 Monte-Carlo\n",
    "\n",
    "To test the above theoretically derived error rates, we can use a random number generator to produce data. Specifically, one first samples an instance label $Y$ according to the prior probabilities, and then uses the\n",
    "corresponding likelihood to sample the feature $X$. If no predefined random generator for the desired\n",
    "likelihood is available (as is the case here), uniformly distributed samples from a standard random\n",
    "number generator can be transformed to the desired distribution by means of \"inverse transform\n",
    "sampling\" (see https://en.wikipedia.org/wiki/Inverse_transform_sampling). You do not have to do this here (we give the solution below), however, you are encouraged to read about it."
   ]
  },
  {
   "cell_type": "code",
   "execution_count": 11,
   "metadata": {
    "deletable": false,
    "editable": false,
    "nbgrader": {
     "cell_type": "code",
     "checksum": "6e712885d5ed721d6bb845159a69a92b",
     "grade": false,
     "grade_id": "cell-efb5de8be5985bf0",
     "locked": true,
     "schema_version": 3,
     "solution": false,
     "task": false
    }
   },
   "outputs": [
    {
     "data": {
      "image/png": "[encoded data removed]",
      "text/plain": [
       "<Figure size 720x216 with 3 Axes>"
      ]
     },
     "metadata": {
      "needs_background": "light"
     },
     "output_type": "display_data"
    }
   ],
   "source": [
    "# Make data\n",
    "def create_data(N,seed=0):\n",
    "    np.random.seed(seed)\n",
    "    data = np.zeros((N, 2), dtype = np.float32)\n",
    "    for i in range(N):\n",
    "        # sample y uniformly between 0 and 1\n",
    "        y = np.random.randint(2)\n",
    "        # use inverse transform sampling for x, given y\n",
    "        u = np.random.rand()\n",
    "        if 0 == y:\n",
    "            x = 1 - np.sqrt(1 - u)\n",
    "        else:\n",
    "            x = np.sqrt(u)\n",
    "        data[i,:] = (x,y)\n",
    "    return data\n",
    "\n",
    "# Generate Data\n",
    "test_data = create_data(100000)\n",
    "X_0 = test_data[test_data[:,1] == 0][:,0]\n",
    "X_1 = test_data[test_data[:,1] == 1][:,0]\n",
    "\n",
    "# show prior and likelihoods for both classes as bar chart and histograms\n",
    "fig = plt.figure(figsize = (10, 3))\n",
    "\n",
    "plt.subplot(131)\n",
    "plt.title(r'prior for class $Y$')\n",
    "plt.bar([0, 1], [X_0.size, X_1.size], width = 0.6)\n",
    "plt.xticks([0,1]); plt.xlim([-0.5, 1.5]); plt.yticks([0,25000,50000], ['0', '25k', '50k'])\n",
    "\n",
    "plt.subplot(132)\n",
    "plt.title(r'likelihood for $Y = 0$')\n",
    "plt.hist(X_0, 50, density = True, facecolor = 'green', alpha = 0.5)\n",
    "plt.ylabel(r'$p(X = x \\mid Y = 0)$')\n",
    "plt.plot([0,1], [2,0])\n",
    "\n",
    "plt.subplot(133)\n",
    "plt.title(r'likelihood for $Y = 1$')\n",
    "plt.hist(X_1, 50, density = True, facecolor = 'blue', alpha = 0.5)\n",
    "plt.ylabel(r'$p(X = x \\mid Y = 1)$')\n",
    "plt.plot([0,1], [0,2])\n",
    "\n",
    "fig.tight_layout(); plt.show()"
   ]
  },
  {
   "cell_type": "markdown",
   "metadata": {
    "deletable": false,
    "editable": false,
    "nbgrader": {
     "cell_type": "markdown",
     "checksum": "58e6531b91bd2bea517103c5fa2f7efa",
     "grade": false,
     "grade_id": "cell-0a70bae0f653a686",
     "locked": true,
     "schema_version": 3,
     "solution": false,
     "task": false
    }
   },
   "source": [
    "### 5.5 Classifier Error rates\n",
    "\n",
    "Now determine \"experimentally\" the error rates for the following classifiers using the random number generation of `create_data()` for the toy problem:\n",
    "\n",
    "* A) Threshold classifier with threshold $x_t$ (for $x_t = 1/2$ this equals Naive Bayes classifier):\n",
    "\n",
    "$$ f_A (x) =  \\begin{cases}\n",
    "\t0 &\\text{if} \\;\\;x < x_t \\\\\n",
    "\t1 & \\text{if} \\;\\;x \\geqslant x_t\n",
    "\t\\end{cases}$$\n",
    "  \n",
    "\n",
    "* B) Constant classifier:\n",
    "\n",
    "$$ f_B(x) = 1$$\n",
    "\n",
    "* C) Random classifier:\n",
    "\n",
    "$$ f_C(x) =  \\begin{cases}\n",
    "\t0 & \\; \\text{with probability} 1/2\\\\\n",
    "\t1 &  \\;\\text{otherwise}\n",
    "\t\\end{cases}$$\n",
    "    \n",
    "* D) Nearest Neighbour classifier (k=1) for a training set $(x_i, y_i) \\in TS$ that is taken from the data above.\n",
    "\n",
    "$$ \\hat{y} = f_D(x;\\text{TS}) = y_{\\hat{i}}^*$$\n",
    "\n",
    "$$\\hat{i} = \\underset{i}{\\text{argmin}}\\; d(x_i,x)$$\n"
   ]
  },
  {
   "cell_type": "code",
   "execution_count": 12,
   "metadata": {
    "deletable": false,
    "nbgrader": {
     "cell_type": "code",
     "checksum": "7e63bafffdebb74d7e484949adcafbc0",
     "grade": false,
     "grade_id": "rule_A_B_C",
     "locked": false,
     "schema_version": 3,
     "solution": true,
     "task": false
    }
   },
   "outputs": [],
   "source": [
    "# simple classifiers\n",
    "# implement the classifiers' functions below:\n",
    "def pred_A(x,xt):\n",
    "    res = np.zeros(x.shape)\n",
    "    cond = x >= xt\n",
    "    res[cond] = 1\n",
    "    res[~cond] = 0\n",
    "    return res\n",
    "\n",
    "def pred_B(x):\n",
    "    return 1\n",
    "\n",
    "def pred_C(x):\n",
    "    return np.random.choice([0, 1], p=[0.5, 0.5], size=len(x))\n",
    "\n",
    "# YOUR CODE HERE\n",
    "# raise NotImplementedError()\n",
    "\n",
    "# Determine the error rates\n",
    "def ErrorCount(y_pred, y_true):\n",
    "    CountError = np.array(np.rint(y_true), dtype=np.int) != np.array(np.rint(y_pred),dtype=np.int)\n",
    "    CountError = np.sum(CountError)\n",
    "    return CountError/len(y_true)\n",
    "\n",
    "# Now determine the error rates with std deviation, i.e. create_data(N=100000) for 5 repetitions\n",
    "# For A choose here xt = 0.5\n",
    "dat_mult = [create_data(N=100000,seed=i) for i in range(5)]\n",
    "data = dat_mult[0]\n",
    "\n",
    "# for A\n",
    "error_A = [\n",
    "    ErrorCount(pred_A(dat_mult[i][:,0], 0.5), dat_mult[i][:,1]) for i in range(5)\n",
    "]\n",
    "error_A_std = np.std(error_A)\n",
    "error_A = np.mean(error_A)\n",
    "\n",
    "\n",
    "# for B\n",
    "error_B = [\n",
    "    ErrorCount(pred_B(dat_mult[i][:,0]), dat_mult[i][:,1]) for i in range(5)\n",
    "]\n",
    "error_B_std = np.std(error_B)\n",
    "error_B = np.mean(error_B)\n",
    "\n",
    "\n",
    "# for C\n",
    "error_C = [\n",
    "    ErrorCount(pred_C(dat_mult[i][:,0]), dat_mult[i][:,1]) for i in range(5)\n",
    "]\n",
    "error_C_std = np.std(error_C)\n",
    "error_C = np.mean(error_C)"
   ]
  },
  {
   "cell_type": "code",
   "execution_count": 13,
   "metadata": {},
   "outputs": [
    {
     "data": {
      "text/plain": [
       "0.251052"
      ]
     },
     "execution_count": 13,
     "metadata": {},
     "output_type": "execute_result"
    }
   ],
   "source": [
    "error_A"
   ]
  },
  {
   "cell_type": "code",
   "execution_count": 14,
   "metadata": {
    "deletable": false,
    "nbgrader": {
     "cell_type": "code",
     "checksum": "b1d8b7bbb1b09d8b8e150243ce03577c",
     "grade": false,
     "grade_id": "cell-b221a5f97f07dd3a",
     "locked": false,
     "schema_version": 3,
     "solution": true,
     "task": false
    }
   },
   "outputs": [
    {
     "name": "stdout",
     "output_type": "stream",
     "text": [
      "error_A=0.251052\n",
      "error_A_std=0.001408\n",
      "error_B=0.500178\n",
      "error_B_std=0.000592\n",
      "error_C=0.501102\n",
      "error_C_std=0.001535\n"
     ]
    }
   ],
   "source": [
    "# YOUR CODE HERE\n",
    "# sanity check\n",
    "print(f\"{error_A=:.6f}\")\n",
    "print(f\"{error_A_std=:.6f}\")\n",
    "print(f\"{error_B=:.6f}\")\n",
    "print(f\"{error_B_std=:.6f}\")\n",
    "print(f\"{error_C=:.6f}\")\n",
    "print(f\"{error_C_std=:.6f}\")"
   ]
  },
  {
   "cell_type": "code",
   "execution_count": 15,
   "metadata": {
    "deletable": false,
    "editable": false,
    "nbgrader": {
     "cell_type": "code",
     "checksum": "f64450e62940b9331ccc3559f11c17c3",
     "grade": true,
     "grade_id": "rule_A_B_C_test_A",
     "locked": true,
     "points": 1,
     "schema_version": 3,
     "solution": false,
     "task": false
    }
   },
   "outputs": [],
   "source": [
    "# (1 Points)\n",
    "# Try to assign a single value to the error rates\n",
    "# We will also check the function implementations\n",
    "assert error_A is not None"
   ]
  },
  {
   "cell_type": "code",
   "execution_count": 16,
   "metadata": {
    "deletable": false,
    "editable": false,
    "nbgrader": {
     "cell_type": "code",
     "checksum": "984b8e367f4c98914952015da8f083dd",
     "grade": true,
     "grade_id": "rule_A_B_C_test_B",
     "locked": true,
     "points": 1,
     "schema_version": 3,
     "solution": false,
     "task": false
    }
   },
   "outputs": [],
   "source": [
    "# (1 Points)\n",
    "assert error_B is not None"
   ]
  },
  {
   "cell_type": "code",
   "execution_count": 17,
   "metadata": {
    "deletable": false,
    "editable": false,
    "nbgrader": {
     "cell_type": "code",
     "checksum": "e3e17b9c9fd8b62d94ed4cf9ef22fd7a",
     "grade": true,
     "grade_id": "rule_A_B_C_test_C",
     "locked": true,
     "points": 1,
     "schema_version": 3,
     "solution": false,
     "task": false
    }
   },
   "outputs": [],
   "source": [
    "# (1 Points)\n",
    "assert error_C is not None"
   ]
  },
  {
   "cell_type": "raw",
   "metadata": {},
   "source": [
    "dat_mult = [create_data(N=100000,seed=i) for i in range(5)] # For training\n",
    "test_mult = [create_data(N=100,seed=i+100) for i in range(5)] # For testing"
   ]
  },
  {
   "cell_type": "code",
   "execution_count": 18,
   "metadata": {
    "deletable": false,
    "nbgrader": {
     "cell_type": "code",
     "checksum": "47f35fcc367b84ad0c131af91d33fa03",
     "grade": false,
     "grade_id": "rule_D",
     "locked": false,
     "schema_version": 3,
     "solution": true,
     "task": false
    }
   },
   "outputs": [],
   "source": [
    "# Now we have to implement the NN classifier\n",
    "# Tipp: Use the distance function from exercise sheet 3! Or scipy cdist.\n",
    "\n",
    "def nn_classifier(x_test, TS):\n",
    "    \"\"\"Nearest neighbor classifier for arbitrary training-set size.\n",
    "    Use vectorization (ideally).\n",
    "    \n",
    "    Args:\n",
    "        x_test (np.array): data to predict of shape (N,1)\n",
    "        TS (np.array): Training dataset of shape (M,2) with (x,y) in the last dimension.\n",
    "    \n",
    "    Returns:\n",
    "        y_pred (np.array): Prediction of the NN classifier of shape (N,1) with dtype=np.int\n",
    "    \"\"\"  \n",
    "    pass\n",
    "    from scipy.spatial.distance import cdist\n",
    "    train = TS[:,0]\n",
    "    train_labels = TS[:, 1]\n",
    "\n",
    "    dist = cdist(x_test.reshape(-1,1), train.reshape(-1,1)) # N x M\n",
    "    dist_sorted = np.argmin(dist,axis=-1) # np.argsort(dist,axis=-1)[:,k] # for K-nearest neigbors would have used this\n",
    "    y_pred = train_labels[dist_sorted]\n",
    "    \n",
    "    return y_pred\n",
    "\n",
    "    \n",
    "dat_mult = [create_data(N=100000,seed=i) for i in range(5)] # For training\n",
    "test_mult = [create_data(N=100,seed=i+100) for i in range(5)] # For testing\n",
    "\n",
    "error_NN = [\n",
    "    ErrorCount(nn_classifier(test_mult[i][:,0], dat_mult[i]), test_mult[i][:,1]) for i in range(5)\n",
    "]\n",
    "error_NN_std = np.std(error_NN)\n",
    "error_NN = np.mean(error_NN)"
   ]
  },
  {
   "cell_type": "code",
   "execution_count": 19,
   "metadata": {
    "deletable": false,
    "nbgrader": {
     "cell_type": "code",
     "checksum": "3dd79d73ce56d13bb226f2345d527f24",
     "grade": false,
     "grade_id": "cell-52f1aef336bb5f70",
     "locked": false,
     "schema_version": 3,
     "solution": true,
     "task": false
    }
   },
   "outputs": [
    {
     "name": "stdout",
     "output_type": "stream",
     "text": [
      "error_NN=0.346000\n",
      "error_NN_std=0.034409\n"
     ]
    }
   ],
   "source": [
    "# YOUR CODE HERE\n",
    "print(f\"{error_NN=:.6f}\")\n",
    "print(f\"{error_NN_std=:.6f}\")"
   ]
  },
  {
   "cell_type": "code",
   "execution_count": 20,
   "metadata": {
    "deletable": false,
    "editable": false,
    "nbgrader": {
     "cell_type": "code",
     "checksum": "3f1c3681df73403460d9d399ebf8aaa2",
     "grade": true,
     "grade_id": "rule_D_test",
     "locked": true,
     "points": 2,
     "schema_version": 3,
     "solution": false,
     "task": false
    }
   },
   "outputs": [],
   "source": [
    "# (2 Points)\n",
    "# We will also test the function nn_classifier(x_test,TS)\n",
    "assert error_NN is not None\n",
    "assert error_NN_std is not None"
   ]
  },
  {
   "cell_type": "code",
   "execution_count": 21,
   "metadata": {
    "deletable": false,
    "editable": false,
    "nbgrader": {
     "cell_type": "code",
     "checksum": "28e0aafe9c3b2845dac943fcc35e9453",
     "grade": true,
     "grade_id": "rule_D_test_NN",
     "locked": true,
     "points": 1,
     "schema_version": 3,
     "solution": false,
     "task": false
    }
   },
   "outputs": [],
   "source": [
    "# (1 Points)\n",
    "assert nn_classifier(np.array([[0.0]]), np.array([[0.0,0.0]])) is not None"
   ]
  },
  {
   "cell_type": "markdown",
   "metadata": {
    "deletable": false,
    "editable": false,
    "nbgrader": {
     "cell_type": "markdown",
     "checksum": "3d3d985f01f2fa3cac1814a9dea5d30c",
     "grade": false,
     "grade_id": "cell-ddb431ec02132cd9",
     "locked": true,
     "schema_version": 3,
     "solution": false,
     "task": false
    }
   },
   "source": [
    "Evaluate the error rate as a function of the dataset size and plot it (not graded)."
   ]
  },
  {
   "cell_type": "code",
   "execution_count": 22,
   "metadata": {
    "deletable": false,
    "nbgrader": {
     "cell_type": "code",
     "checksum": "1c4f6dd7adbd04b1e175ad1f0ae03f5a",
     "grade": false,
     "grade_id": "cell-35e815499c5c52ba",
     "locked": false,
     "schema_version": 3,
     "solution": true,
     "task": false
    },
    "tags": []
   },
   "outputs": [],
   "source": [
    "dat_grid = [[create_data(N=n,seed=i) for i in range(5)] for n in [50,100,1000,10000,100000]]\n",
    "test_grid_nn = [[create_data(N=n,seed=i+100) for i in range(5)] for n in [5,10,100,100,1000]]\n",
    "\n",
    "errors_A = [[ErrorCount(pred_A(dat_grid[n][i][:,0], 0.5), dat_grid[n][i][:,1]) for i in range(5)] for n in range(5)]\n",
    "errors_B = [[ErrorCount(pred_B(dat_grid[n][i][:,0]), dat_grid[n][i][:,1]) for i in range(5)] for n in range(5)]\n",
    "errors_C = [[ErrorCount(pred_C(dat_grid[n][i][:,0]), dat_grid[n][i][:,1]) for i in range(5)] for n in range(5)]\n",
    "errors_NN= [[ErrorCount(nn_classifier(test_grid_nn[n][i][:,0], dat_grid[n][i]), test_grid_nn[n][i][:,1]) for i in range(5)] for n in range(5)]"
   ]
  },
  {
   "cell_type": "code",
   "execution_count": 23,
   "metadata": {},
   "outputs": [
    {
     "name": "stdout",
     "output_type": "stream",
     "text": [
      "0.2544744\n",
      "0.5108235999999999\n",
      "0.48989439999999995\n",
      "0.34224\n"
     ]
    }
   ],
   "source": [
    "print(np.mean(errors_A))\n",
    "print(np.mean(errors_B))\n",
    "print(np.mean(errors_C))\n",
    "print(np.mean(errors_NN))"
   ]
  },
  {
   "cell_type": "code",
   "execution_count": 24,
   "metadata": {
    "deletable": false,
    "nbgrader": {
     "cell_type": "code",
     "checksum": "29c2d6022d7f3ae22b20b2f64ad8af84",
     "grade": false,
     "grade_id": "cell-b8e819f7cf5f9674",
     "locked": false,
     "schema_version": 3,
     "solution": true,
     "task": false
    }
   },
   "outputs": [
    {
     "data": {
      "image/png": "[encoded data removed]",
      "text/plain": [
       "<Figure size 432x288 with 1 Axes>"
      ]
     },
     "metadata": {
      "needs_background": "light"
     },
     "output_type": "display_data"
    }
   ],
   "source": [
    "#Plot results\n",
    "n = [50,100,1000,10000,100000]\n",
    "\n",
    "plt.plot(n, np.mean(errors_A, axis=1), label=\"A\")\n",
    "plt.plot(n, np.mean(errors_B, axis=1), label=\"B\")\n",
    "plt.plot(n, np.mean(errors_C, axis=1), label=\"C\")\n",
    "plt.plot(n, np.mean(errors_NN, axis=1), label=\"NN\")\n",
    "\n",
    "plt.xscale(\"log\")\n",
    "plt.legend()\n",
    "plt.show()"
   ]
  },
  {
   "cell_type": "code",
   "execution_count": null,
   "metadata": {},
   "outputs": [],
   "source": []
  }
 ],
 "metadata": {
  "kernelspec": {
   "display_name": "aimat",
   "language": "python",
   "name": "aimat"
  },
  "language_info": {
   "codemirror_mode": {
    "name": "ipython",
    "version": 3
   },
   "file_extension": ".py",
   "mimetype": "text/x-python",
   "name": "python",
   "nbconvert_exporter": "python",
   "pygments_lexer": "ipython3",
   "version": "3.8.8"
  }
 },
 "nbformat": 4,
 "nbformat_minor": 4
}
